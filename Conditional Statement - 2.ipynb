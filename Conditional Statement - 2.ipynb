{
 "cells": [
  {
   "cell_type": "code",
   "execution_count": 3,
   "id": "f0f2b68c",
   "metadata": {},
   "outputs": [
    {
     "name": "stdout",
     "output_type": "stream",
     "text": [
      "Enter Number 1: 2\n",
      "Enter Number 2: 1\n",
      "Greatest Number:  2\n"
     ]
    }
   ],
   "source": [
    "num1 = int(input(\"Enter Number 1: \"))\n",
    "num2 = int(input(\"Enter Number 2: \")) \n",
    "if num1>num2:\n",
    "    print(\"Greatest Number: \", num1)\n",
    "else:\n",
    "    print(\"Not A Greatest Number: \",num1)"
   ]
  },
  {
   "cell_type": "code",
   "execution_count": 5,
   "id": "71bd5136",
   "metadata": {},
   "outputs": [
    {
     "name": "stdout",
     "output_type": "stream",
     "text": [
      "Enter Number 1: 1\n",
      "Enter Number 2: 2\n",
      "Smallest Number:  1\n"
     ]
    }
   ],
   "source": [
    "num1 = int(input(\"Enter Number 1: \"))\n",
    "num2 = int(input(\"Enter Number 2: \")) \n",
    "if num1<num2:\n",
    "    print(\"Smallest Number: \" ,num1)\n",
    "else:\n",
    "    print(\"Not A Smallest Number: \", num1) "
   ]
  },
  {
   "cell_type": "code",
   "execution_count": 6,
   "id": "6b2bfe5c",
   "metadata": {},
   "outputs": [
    {
     "name": "stdout",
     "output_type": "stream",
     "text": [
      "Enter first number  : 1\n",
      "Enter second number : 2\n",
      "Enter third number  : 3\n",
      "3 is the largest of three numbers.\n"
     ]
    }
   ],
   "source": [
    "a = int(input('Enter first number  : '))\n",
    "b = int(input('Enter second number : '))\n",
    "c = int(input('Enter third number  : '))\n",
    "\n",
    "largest = 0\n",
    "\n",
    "if a > b and a > c:\n",
    "    largest = a\n",
    "if b > a and b > c:\n",
    "    largest = b\n",
    "if c > a and c > b:\n",
    "    largest = c\n",
    "\n",
    "print(largest, \"is the largest of three numbers.\")"
   ]
  },
  {
   "cell_type": "code",
   "execution_count": 7,
   "id": "c2350c3a",
   "metadata": {},
   "outputs": [
    {
     "name": "stdout",
     "output_type": "stream",
     "text": [
      "Enter first number  : 1\n",
      "Enter second number : 2\n",
      "Enter third number  : 3\n",
      "1 is the smallest of three numbers.\n"
     ]
    }
   ],
   "source": [
    "a = int(input('Enter first number  : '))\n",
    "b = int(input('Enter second number : '))\n",
    "c = int(input('Enter third number  : '))\n",
    "\n",
    "smallest = 0\n",
    "\n",
    "if a < b and a < c:\n",
    "    smallest = a\n",
    "if b < a and b < c:\n",
    "    smallest = b\n",
    "if c < a and c < b:\n",
    "    smallest = c\n",
    "\n",
    "print(smallest, \"is the smallest of three numbers.\")"
   ]
  },
  {
   "cell_type": "code",
   "execution_count": 8,
   "id": "f39bca19",
   "metadata": {},
   "outputs": [
    {
     "name": "stdout",
     "output_type": "stream",
     "text": [
      " real and different roots \n",
      "2.0\n",
      "-12.0\n"
     ]
    }
   ],
   "source": [
    "import math\n",
    " \n",
    "def equationroots( a, b, c):\n",
    " \n",
    "    dis = b * b - 4 * a * c\n",
    "    sqrt_val = math.sqrt(abs(dis))\n",
    "     \n",
    " \n",
    "    if dis > 0:\n",
    "        print(\" real and different roots \")\n",
    "        print((-b + sqrt_val)/(2 * a))\n",
    "        print((-b - sqrt_val)/(2 * a))\n",
    "     \n",
    "    elif dis == 0:\n",
    "        print(\" real and same roots\")\n",
    "        print(-b / (2 * a))\n",
    "     \n",
    "  \n",
    "    else:\n",
    "        print(\"Complex Roots\")\n",
    "        print(- b / (2 * a), \" + i\", sqrt_val)\n",
    "        print(- b / (2 * a), \" - i\", sqrt_val)\n",
    "a = 1\n",
    "b = 10\n",
    "c = -24\n",
    " \n",
    "if a == 0:\n",
    "        print(\"Input correct quadratic equation\")\n",
    "else:\n",
    "    equationroots(a, b, c)"
   ]
  },
  {
   "cell_type": "code",
   "execution_count": 12,
   "id": "469b8a1f",
   "metadata": {},
   "outputs": [
    {
     "name": "stdout",
     "output_type": "stream",
     "text": [
      "Enter a Day (1-7): 3\n",
      "3 Tuesday\n"
     ]
    }
   ],
   "source": [
    "day = int(input(\"Enter a Day (1-7): \"))\n",
    "\n",
    "if (day==1):\n",
    "    print(day,\"Sunday\")\n",
    "elif (day==2):\n",
    "    print(day,\"Monday\")\n",
    "elif(day==3):\n",
    "    print(day,\"Tuesday\")\n",
    "elif(day==4):\n",
    "    print(day,\"Wednesday\")\n",
    "elif(day==5):\n",
    "    print(day,\"Thursday\")\n",
    "elif(day==6):\n",
    "    print(day,\"Friday\")\n",
    "elif(day==7):\n",
    "    print(day,\"Saturday\")\n",
    "else:\n",
    "    print(\"Invalid Input\")"
   ]
  },
  {
   "cell_type": "code",
   "execution_count": null,
   "id": "1d7faa48",
   "metadata": {},
   "outputs": [],
   "source": []
  }
 ],
 "metadata": {
  "kernelspec": {
   "display_name": "Python 3 (ipykernel)",
   "language": "python",
   "name": "python3"
  },
  "language_info": {
   "codemirror_mode": {
    "name": "ipython",
    "version": 3
   },
   "file_extension": ".py",
   "mimetype": "text/x-python",
   "name": "python",
   "nbconvert_exporter": "python",
   "pygments_lexer": "ipython3",
   "version": "3.9.13"
  }
 },
 "nbformat": 4,
 "nbformat_minor": 5
}
