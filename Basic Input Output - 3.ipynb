{
 "cells": [
  {
   "cell_type": "code",
   "execution_count": 1,
   "id": "b519f07b",
   "metadata": {},
   "outputs": [
    {
     "name": "stdout",
     "output_type": "stream",
     "text": [
      "Area Of Rectangle:  44\n",
      "Area Of Square:  64\n",
      "Area Of Traingle 70.0\n",
      "Area Of Circle 12.571428571428571\n"
     ]
    }
   ],
   "source": [
    "length = 12\n",
    "breadth = 10\n",
    "height = 14\n",
    "area_of_rectangle = 2*length + 2*breadth\n",
    "print(\"Area Of Rectangle: \",area_of_rectangle)\n",
    "\n",
    "side = 8\n",
    "area_of_square =  side*side\n",
    "print(\"Area Of Square: \", area_of_square)\n",
    "\n",
    "area_of_traingle = 1/2*breadth*height\n",
    "print(\"Area Of Traingle\",area_of_traingle)\n",
    "\n",
    "radius = 2\n",
    "area_of_circle = 22/7*radius**2\n",
    "print(\"Area Of Circle\", area_of_circle)"
   ]
  },
  {
   "cell_type": "code",
   "execution_count": 2,
   "id": "8f3d47bb",
   "metadata": {},
   "outputs": [
    {
     "name": "stdout",
     "output_type": "stream",
     "text": [
      "Enter name of employee:ABC\n",
      "Enter Basic Salary :45000\n",
      " NAME OF EMPLOYEE :  ABC\n",
      " BASIC SALARY :  45000.0\n",
      " DEARNESS ALLOW. :  2250.0\n",
      " HOUSE RENT ALLOW.:  3150.0000000000005\n",
      " PROVIDENT FUND :  1350.0\n",
      " NET SALARY PAY :  50400.0\n"
     ]
    }
   ],
   "source": [
    "name= str(input(\"Enter name of employee:\"))\n",
    "basic=float(input(\"Enter Basic Salary :\"))\n",
    "da=float(basic*0.05)\n",
    "hra=float(basic*0.07)\n",
    "pf=float(basic*0.03)\n",
    "\n",
    "netsalary=float(basic+da+hra)\n",
    " \n",
    "print(\" NAME OF EMPLOYEE : \",name)\n",
    "print(\" BASIC SALARY : \",basic)\n",
    "print(\" DEARNESS ALLOW. : \",da)\n",
    "print(\" HOUSE RENT ALLOW.: \",hra)\n",
    "print(\" PROVIDENT FUND : \",pf) \n",
    "print(\" NET SALARY PAY : \",netsalary)"
   ]
  },
  {
   "cell_type": "code",
   "execution_count": 3,
   "id": "af5b13e1",
   "metadata": {},
   "outputs": [
    {
     "name": "stdout",
     "output_type": "stream",
     "text": [
      "729\n"
     ]
    }
   ],
   "source": [
    "print(pow(9,3))"
   ]
  },
  {
   "cell_type": "code",
   "execution_count": 4,
   "id": "8a1375b5",
   "metadata": {},
   "outputs": [
    {
     "name": "stdout",
     "output_type": "stream",
     "text": [
      "Python version\n",
      "3.9.13 (main, Aug 25 2022, 23:51:50) [MSC v.1916 64 bit (AMD64)]\n",
      "Version info.\n",
      "sys.version_info(major=3, minor=9, micro=13, releaselevel='final', serial=0)\n"
     ]
    }
   ],
   "source": [
    "import sys\n",
    "print(\"Python version\")\n",
    "print (sys.version)\n",
    "print(\"Version info.\")\n",
    "print (sys.version_info)"
   ]
  }
 ],
 "metadata": {
  "kernelspec": {
   "display_name": "Python 3 (ipykernel)",
   "language": "python",
   "name": "python3"
  },
  "language_info": {
   "codemirror_mode": {
    "name": "ipython",
    "version": 3
   },
   "file_extension": ".py",
   "mimetype": "text/x-python",
   "name": "python",
   "nbconvert_exporter": "python",
   "pygments_lexer": "ipython3",
   "version": "3.9.13"
  }
 },
 "nbformat": 4,
 "nbformat_minor": 5
}
