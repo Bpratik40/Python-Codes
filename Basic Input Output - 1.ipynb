{
 "cells": [
  {
   "cell_type": "code",
   "execution_count": 1,
   "id": "8bf2f7ba",
   "metadata": {},
   "outputs": [
    {
     "name": "stdout",
     "output_type": "stream",
     "text": [
      "Introduction: My name is Pratik , I hav graduated from SSPU in Computer Engineering stream. I am skilled in Data Analysis. \n"
     ]
    }
   ],
   "source": [
    "print(\"Introduction: My name is Pratik , I hav graduated from SSPU in Computer Engineering stream. I am skilled in Data Analysis. \")"
   ]
  },
  {
   "cell_type": "code",
   "execution_count": 2,
   "id": "39f02185",
   "metadata": {},
   "outputs": [
    {
     "name": "stdout",
     "output_type": "stream",
     "text": [
      "Addition:  3\n",
      "Substraction:  -1\n",
      "Multiplication:  2\n",
      "Division:  2.0\n",
      "Modulus:  1\n",
      "Exponent:  0\n"
     ]
    }
   ],
   "source": [
    "a = 1\n",
    "b = 2\n",
    "\n",
    "print(\"Addition: \",a+b)\n",
    "print(\"Substraction: \",a-b)\n",
    "print(\"Multiplication: \",a*b)\n",
    "print(\"Division: \", b/a)\n",
    "print(\"Modulus: \",a%b)\n",
    "print(\"Exponent: \",a//b)"
   ]
  },
  {
   "cell_type": "code",
   "execution_count": null,
   "id": "0fa4550b",
   "metadata": {},
   "outputs": [],
   "source": []
  }
 ],
 "metadata": {
  "kernelspec": {
   "display_name": "Python 3 (ipykernel)",
   "language": "python",
   "name": "python3"
  },
  "language_info": {
   "codemirror_mode": {
    "name": "ipython",
    "version": 3
   },
   "file_extension": ".py",
   "mimetype": "text/x-python",
   "name": "python",
   "nbconvert_exporter": "python",
   "pygments_lexer": "ipython3",
   "version": "3.9.13"
  }
 },
 "nbformat": 4,
 "nbformat_minor": 5
}
