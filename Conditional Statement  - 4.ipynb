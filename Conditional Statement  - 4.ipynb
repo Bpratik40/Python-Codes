{
 "cells": [
  {
   "cell_type": "code",
   "execution_count": 1,
   "id": "16cb899a",
   "metadata": {},
   "outputs": [
    {
     "name": "stdout",
     "output_type": "stream",
     "text": [
      "Enter Salary: 150000\n",
      "Enter Year Of Service: 6\n",
      "Bonus is 7500.0\n"
     ]
    }
   ],
   "source": [
    "#Salary Bonus\n",
    "salary = int(input(\"Enter Salary: \"))\n",
    "year = int(input(\"Enter Year Of Service: \"))\n",
    "\n",
    "if(year>5):\n",
    "    print(\"Bonus is\", 0.05*salary)\n",
    "else:\n",
    "    print(\"Not Applicable For Bonus\")"
   ]
  },
  {
   "cell_type": "code",
   "execution_count": 2,
   "id": "5cd3d0bf",
   "metadata": {},
   "outputs": [
    {
     "name": "stdout",
     "output_type": "stream",
     "text": [
      "Enter Length of a Rectangle: 12\n",
      "Enter Breadth Of a Rectangle: 12\n",
      "Its A Square as we know that parallel sides of rectangle is same so Length and Breadth are Same,According to property of sqaure All Sides Should be same.\n"
     ]
    }
   ],
   "source": [
    "#Rectangle Is Square Or Not\n",
    "length = float(input(\"Enter Length of a Rectangle: \"))\n",
    "breadth = float(input(\"Enter Breadth Of a Rectangle: \"))\n",
    "\n",
    "if(length==breadth):\n",
    "    print(\"Its A Square as we know that parallel sides of rectangle is same so Length and Breadth are Same,According to property of sqaure All Sides Should be same.\")\n",
    "else:\n",
    "    print(\"Not A Square\")\n"
   ]
  },
  {
   "cell_type": "code",
   "execution_count": 5,
   "id": "e33ef0ee",
   "metadata": {},
   "outputs": [
    {
     "name": "stdout",
     "output_type": "stream",
     "text": [
      "enter age1: 11\n",
      "enter age2: 12\n",
      "enter age3: 13\n",
      "age3 is oldest\n",
      "age1 is youngest\n"
     ]
    }
   ],
   "source": [
    "#Age Oldest And Youngest\n",
    "age1=int(input('enter age1: '))\n",
    "age2=int(input('enter age2: '))\n",
    "age3=int(input('enter age3: '))\n",
    "if age1>age2 and age1>age3:\n",
    "    print('age1 is oldest')\n",
    "elif age2>age1 and age2>age3:\n",
    "    print('age2 is oldest')\n",
    "else:\n",
    "    print('age3 is oldest')\n",
    "if age1<age2 and age1<age3:\n",
    "    print('age1 is youngest')\n",
    "elif age2<age1 and age2<age3:\n",
    "    print('age2 is youngest')\n",
    "else:\n",
    "     print('age3 is youngest')"
   ]
  }
 ],
 "metadata": {
  "kernelspec": {
   "display_name": "Python 3 (ipykernel)",
   "language": "python",
   "name": "python3"
  },
  "language_info": {
   "codemirror_mode": {
    "name": "ipython",
    "version": 3
   },
   "file_extension": ".py",
   "mimetype": "text/x-python",
   "name": "python",
   "nbconvert_exporter": "python",
   "pygments_lexer": "ipython3",
   "version": "3.9.13"
  }
 },
 "nbformat": 4,
 "nbformat_minor": 5
}
