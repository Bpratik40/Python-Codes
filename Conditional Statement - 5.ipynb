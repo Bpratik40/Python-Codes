{
 "cells": [
  {
   "cell_type": "code",
   "execution_count": 7,
   "id": "b20d1e1a",
   "metadata": {},
   "outputs": [
    {
     "name": "stdout",
     "output_type": "stream",
     "text": [
      "Enter A Marks: 95\n",
      "A\n"
     ]
    }
   ],
   "source": [
    "#Grading System\n",
    "grade = int(input(\"Enter A Marks: \"))\n",
    "if(grade<25):\n",
    "    print(\"F\")\n",
    "elif(grade>=25 and grade<45):\n",
    "    print(\"E\")\n",
    "elif(grade>=45 and grade<50):\n",
    "    print(\"D\")\n",
    "elif(grade>=50 and grade<60):\n",
    "    print(\"C\")\n",
    "elif(grade>=60 and grade<80):\n",
    "    print(\"B\")\n",
    "else:\n",
    "    print(\"A\")\n",
    " "
   ]
  },
  {
   "cell_type": "code",
   "execution_count": null,
   "id": "e75a010a",
   "metadata": {},
   "outputs": [],
   "source": []
  }
 ],
 "metadata": {
  "kernelspec": {
   "display_name": "Python 3 (ipykernel)",
   "language": "python",
   "name": "python3"
  },
  "language_info": {
   "codemirror_mode": {
    "name": "ipython",
    "version": 3
   },
   "file_extension": ".py",
   "mimetype": "text/x-python",
   "name": "python",
   "nbconvert_exporter": "python",
   "pygments_lexer": "ipython3",
   "version": "3.9.13"
  }
 },
 "nbformat": 4,
 "nbformat_minor": 5
}
