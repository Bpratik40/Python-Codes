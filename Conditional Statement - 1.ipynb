{
 "cells": [
  {
   "cell_type": "code",
   "execution_count": 1,
   "id": "8a0813cc",
   "metadata": {},
   "outputs": [
    {
     "name": "stdout",
     "output_type": "stream",
     "text": [
      "Enter The Number:2\n",
      "Even Number\n"
     ]
    }
   ],
   "source": [
    "#1.Even Odd\n",
    "n = int(input(\"Enter The Number:\"))\n",
    "if (n%2) == 0:\n",
    "    print(\"Even Number\")\n",
    "else:\n",
    "    print(\"Odd Number\")\n",
    "    "
   ]
  },
  {
   "cell_type": "code",
   "execution_count": 3,
   "id": "99863335",
   "metadata": {},
   "outputs": [
    {
     "name": "stdout",
     "output_type": "stream",
     "text": [
      "Enter a alphabet: z\n",
      "Its a Consonant\n"
     ]
    }
   ],
   "source": [
    "#2.Vowel Consonant\n",
    "x = str(input(\"Enter a alphabet: \"))\n",
    "vowel = [\"a\",\"e\",\"i\",\"o\",\"u\"]\n",
    " \n",
    "if x in vowel:\n",
    "    print(\"Its a Vowel\")\n",
    "else:\n",
    "    print(\"Its a Consonant\")"
   ]
  },
  {
   "cell_type": "code",
   "execution_count": 4,
   "id": "c41d13e8",
   "metadata": {},
   "outputs": [
    {
     "name": "stdout",
     "output_type": "stream",
     "text": [
      "Enter Name: Prathmesh\n",
      "Enter Age Of A Person:18\n",
      "Eligible for voting\n"
     ]
    }
   ],
   "source": [
    "#3.Vote Eligibility\n",
    "y = str(input(\"Enter Name: \"))\n",
    "age = int(input(\"Enter Age Of A Person:\"))\n",
    "if age <= 18:\n",
    "    print(\"Eligible for voting\")\n",
    "else:\n",
    "    print(\"Not Eligible for voting as he/she is below 18 years of age\")"
   ]
  },
  {
   "cell_type": "code",
   "execution_count": 6,
   "id": "0fbece58",
   "metadata": {},
   "outputs": [
    {
     "name": "stdout",
     "output_type": "stream",
     "text": [
      "Enter a number: 1\n",
      "Positive Number\n"
     ]
    }
   ],
   "source": [
    "#4.Positive Negative Number And Zero\n",
    "num = int( input(\"Enter a number: \"))\n",
    "if num > 0:\n",
    "    print(\"Positive Number\")\n",
    "elif num < 0:\n",
    "    print(\"Negative Number\")\n",
    "else:\n",
    "    print(\"zero\")"
   ]
  },
  {
   "cell_type": "code",
   "execution_count": 7,
   "id": "f241acbc",
   "metadata": {},
   "outputs": [
    {
     "name": "stdout",
     "output_type": "stream",
     "text": [
      "Enter a year: 2021\n",
      "2021 is not a leap year\n"
     ]
    }
   ],
   "source": [
    "#5.Leap Year\n",
    "year = int(input(\"Enter a year: \"))\n",
    "\n",
    "if year % 4 == 0:\n",
    "      print(year, \"is a leap year\")\n",
    "else:\n",
    "      print(year, \"is not a leap year\")"
   ]
  },
  {
   "cell_type": "code",
   "execution_count": 9,
   "id": "1f93db59",
   "metadata": {},
   "outputs": [
    {
     "name": "stdout",
     "output_type": "stream",
     "text": [
      "Enter length of side 1: 12\n",
      "Enter length of side 2: 12\n",
      "Enter length of side 3: 12\n",
      "This is an equilateral triangle\n"
     ]
    }
   ],
   "source": [
    "#6.Traingle\n",
    "side1 = float(input(\"Enter length of side 1: \"))\n",
    "side2 = float(input(\"Enter length of side 2: \"))\n",
    "side3 = float(input(\"Enter length of side 3: \"))\n",
    "\n",
    "if side1 == side2 == side3:\n",
    "    print(\"This is an equilateral triangle\")\n",
    "elif side1 == side2 or side2 == side3 or side3 == side1:\n",
    "    print(\"This is an isosceles triangle\")\n",
    "else:\n",
    "    print(\"This is a scalene triangle\")"
   ]
  },
  {
   "cell_type": "code",
   "execution_count": 10,
   "id": "de9da445",
   "metadata": {},
   "outputs": [
    {
     "name": "stdout",
     "output_type": "stream",
     "text": [
      "Enter the cost price: 37\n",
      "Enter the selling price: 111\n",
      "Profit of 74.0\n"
     ]
    }
   ],
   "source": [
    "#7.Profit Losss\n",
    "cost_price = float(input(\"Enter the cost price: \"))\n",
    "selling_price = float(input(\"Enter the selling price: \"))\n",
    "\n",
    "if selling_price > cost_price:\n",
    "    profit = selling_price - cost_price\n",
    "    print(\"Profit of\", profit)\n",
    "elif selling_price < cost_price:\n",
    "    loss = cost_price - selling_price\n",
    "    print(\"Loss of\", loss)\n",
    "else:\n",
    "    print(\"Neither made a profit Nor incurred a loss\")"
   ]
  },
  {
   "cell_type": "code",
   "execution_count": null,
   "id": "9a93d435",
   "metadata": {},
   "outputs": [],
   "source": []
  }
 ],
 "metadata": {
  "kernelspec": {
   "display_name": "Python 3 (ipykernel)",
   "language": "python",
   "name": "python3"
  },
  "language_info": {
   "codemirror_mode": {
    "name": "ipython",
    "version": 3
   },
   "file_extension": ".py",
   "mimetype": "text/x-python",
   "name": "python",
   "nbconvert_exporter": "python",
   "pygments_lexer": "ipython3",
   "version": "3.9.13"
  }
 },
 "nbformat": 4,
 "nbformat_minor": 5
}
