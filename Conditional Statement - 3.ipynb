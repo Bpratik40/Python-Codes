{
 "cells": [
  {
   "cell_type": "code",
   "execution_count": 2,
   "id": "61fb2842",
   "metadata": {},
   "outputs": [
    {
     "name": "stdout",
     "output_type": "stream",
     "text": [
      "Enter a Month(1-12): 11\n",
      "11 November\n"
     ]
    }
   ],
   "source": [
    "#1. Month \n",
    "month = int(input(\"Enter a Month(1-12): \"))\n",
    "\n",
    "if (month==1):\n",
    "    print(month,\"January\")\n",
    "elif (month==2):\n",
    "    print(month,\"February\")\n",
    "elif(month==3):\n",
    "    print(month,\"March\")\n",
    "elif(month==4):\n",
    "    print(month,\"April\")\n",
    "elif(month==5):\n",
    "    print(month,\"May\")\n",
    "elif(month==6):\n",
    "    print(month,\"June\")\n",
    "elif(month==7):\n",
    "    print(month,\"July\")\n",
    "elif(month==8):\n",
    "    print(month,\"August\")\n",
    "elif(month==9):\n",
    "    print(month,\"September\")\n",
    "elif(month==10):\n",
    "    print(month,\"October\")\n",
    "elif(month==11):\n",
    "    print(month,\"November\")\n",
    "elif(month==12):\n",
    "    print(month,\"December\")\n",
    "else:\n",
    "    print(\"Invalid Input\")"
   ]
  },
  {
   "cell_type": "code",
   "execution_count": 3,
   "id": "7a2c7816",
   "metadata": {},
   "outputs": [
    {
     "name": "stdout",
     "output_type": "stream",
     "text": [
      "Enter First Number: 12\n",
      "Enter Second Number: 10\n",
      "Enter Number For Selective Output (1-4): 1\n",
      "Adition   22\n"
     ]
    }
   ],
   "source": [
    "#2. Selective Mathematical Operations\n",
    "x = int(input(\"Enter First Number: \"))\n",
    "y = int(input(\"Enter Second Number: \"))\n",
    "z = int(input(\"Enter Number For Selective Output (1-4): \"))\n",
    "if (z==1):\n",
    "    print(\"Adition  \", x+y)\n",
    "elif(z==2):\n",
    "    print(\"Substarction  \", x-y)\n",
    "elif(z==3):v \n",
    "    print(\"Multiplication   \", x*y)\n",
    "elif(z==4):\n",
    "    print(\"Division  \",x/y)\n",
    "else:\n",
    "    print(\"Invalid Input\")"
   ]
  },
  {
   "cell_type": "code",
   "execution_count": 5,
   "id": "eef8c390",
   "metadata": {},
   "outputs": [
    {
     "name": "stdout",
     "output_type": "stream",
     "text": [
      "Enter A Temperature(Celsius): 40\n",
      "Enter A Temperature(Fahrenheit): 0\n",
      "Select Conversion 1:C to F or 2: F to C:  1\n",
      "C to F:  104.0\n"
     ]
    }
   ],
   "source": [
    "#3.Temperature Conversion\n",
    "celsius = float(input(\"Enter A Temperature(Celsius): \"))\n",
    "fahrenheit= float(input(\"Enter A Temperature(Fahrenheit): \"))\n",
    "conversion = int(input(\"Select Conversion 1:C to F or 2: F to C:  \"))\n",
    "f1 = (celsius * 1.8) + 32   # Celsius To Fahrenheit\n",
    "f2 = (fahrenheit - 32)/1.8 # Fahremheit To Celsius\n",
    "if (conversion==1):\n",
    "    print(\"C to F: \",f1)\n",
    "elif(conversion==2):\n",
    "    print(\"F to C: \",f2)\n",
    "else:\n",
    "    print(\"Invalid Input\")"
   ]
  }
 ],
 "metadata": {
  "kernelspec": {
   "display_name": "Python 3 (ipykernel)",
   "language": "python",
   "name": "python3"
  },
  "language_info": {
   "codemirror_mode": {
    "name": "ipython",
    "version": 3
   },
   "file_extension": ".py",
   "mimetype": "text/x-python",
   "name": "python",
   "nbconvert_exporter": "python",
   "pygments_lexer": "ipython3",
   "version": "3.9.13"
  }
 },
 "nbformat": 4,
 "nbformat_minor": 5
}
