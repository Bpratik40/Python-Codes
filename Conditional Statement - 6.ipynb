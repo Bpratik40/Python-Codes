{
 "cells": [
  {
   "cell_type": "code",
   "execution_count": 3,
   "id": "42b9911c",
   "metadata": {},
   "outputs": [
    {
     "name": "stdout",
     "output_type": "stream",
     "text": [
      "Enter The Number Of classes Held: 50\n",
      "Enter The Number Of Classes Attended By Student: 42\n",
      "Attendence:  84.0\n",
      "Student is Allowed To Sit In Exam\n"
     ]
    }
   ],
   "source": [
    "#Atteandance and Exam\n",
    "x=int(input(\"Enter The Number Of classes Held: \"))\n",
    "y=int(input(\"Enter The Number Of Classes Attended By Student: \"))\n",
    "\n",
    "attendance = ((y/x)*100)\n",
    "print(\"Attendence: \",attendance)\n",
    "if(formula>=75):\n",
    "    print(\"Student is Allowed To Sit In Exam\")\n",
    "else:\n",
    "    print(\"Mot Allowed To Sit In Exam\")"
   ]
  },
  {
   "cell_type": "code",
   "execution_count": null,
   "id": "676b51df",
   "metadata": {},
   "outputs": [],
   "source": []
  }
 ],
 "metadata": {
  "kernelspec": {
   "display_name": "Python 3 (ipykernel)",
   "language": "python",
   "name": "python3"
  },
  "language_info": {
   "codemirror_mode": {
    "name": "ipython",
    "version": 3
   },
   "file_extension": ".py",
   "mimetype": "text/x-python",
   "name": "python",
   "nbconvert_exporter": "python",
   "pygments_lexer": "ipython3",
   "version": "3.9.13"
  }
 },
 "nbformat": 4,
 "nbformat_minor": 5
}
