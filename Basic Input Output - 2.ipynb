{
 "cells": [
  {
   "cell_type": "code",
   "execution_count": 1,
   "id": "76134105",
   "metadata": {},
   "outputs": [
    {
     "name": "stdout",
     "output_type": "stream",
     "text": [
      "The value of x after swapping: 10\n",
      "The value of y after swapping: 5\n"
     ]
    }
   ],
   "source": [
    "#Swapping Number Using Third Variable\n",
    "x = 5\n",
    "y = 10\n",
    " \n",
    "temp = x\n",
    "x = y\n",
    "y = temp\n",
    "\n",
    "print('The value of x after swapping: {}'.format(x))\n",
    "print('The value of y after swapping: {}'.format(y))"
   ]
  },
  {
   "cell_type": "code",
   "execution_count": 2,
   "id": "94d07efe",
   "metadata": {},
   "outputs": [
    {
     "name": "stdout",
     "output_type": "stream",
     "text": [
      "Enter Value: 5\n",
      "Enter VAlue: 7\n",
      "Before swapping: \n",
      "Value of x :  5  and y :  7\n",
      "After swapping: \n",
      "Value of x :  7  and y :  5\n"
     ]
    }
   ],
   "source": [
    "#Swapping Number Without Using Third Variable\n",
    "x = int(input(\"Enter Value: \"))\n",
    "y = int(input(\"Enter VAlue: \"))\n",
    "print (\"Before swapping: \")\n",
    "print(\"Value of x : \", x, \" and y : \", y)\n",
    "\n",
    "x, y = y, x\n",
    "print (\"After swapping: \")\n",
    "print(\"Value of x : \", x, \" and y : \", y)"
   ]
  },
  {
   "cell_type": "code",
   "execution_count": 3,
   "id": "6ccceb37",
   "metadata": {},
   "outputs": [
    {
     "name": "stdout",
     "output_type": "stream",
     "text": [
      "Enter Number Amount: 10000\n",
      "Enter Number Rate: 6\n",
      "Enter Number Time: 15\n",
      "9000.0\n"
     ]
    }
   ],
   "source": [
    "#Calcualte Intrest\n",
    "pa=int(input(\"Enter Number Amount: \"))\n",
    "rate=float(input(\"Enter Number Rate: \"))\n",
    "time=float(input(\"Enter Number Time: \"))\n",
    "\n",
    "interest=float((pa*rate*time)/100)\n",
    "print(interest)"
   ]
  },
  {
   "cell_type": "code",
   "execution_count": 5,
   "id": "b85e1330",
   "metadata": {},
   "outputs": [
    {
     "name": "stdout",
     "output_type": "stream",
     "text": [
      "1\n",
      "2\n",
      "3\n",
      "4\n",
      "5\n",
      "Average:  3.0\n"
     ]
    }
   ],
   "source": [
    "#Average Of A Five Numbers Entred By User\n",
    "num1 = int(input())\n",
    "num2 = int(input())\n",
    "num3 = int(input())\n",
    "num4 = int(input())\n",
    "num5 = int(input())\n",
    "\n",
    "average = (num1+num2+num3+num4+num5) / 5\n",
    "\n",
    "print(\"Average: \",average)"
   ]
  },
  {
   "cell_type": "code",
   "execution_count": 9,
   "id": "5444c2cd",
   "metadata": {},
   "outputs": [
    {
     "name": "stdout",
     "output_type": "stream",
     "text": [
      "Please Enter the 1st value point a: 2\n",
      "Please Enter the 2nd value point b: 10\n",
      "Please Enter the 3rd value point c: 3\n",
      "Discriminant:  76.0\n"
     ]
    }
   ],
   "source": [
    "#Find Discriminant\n",
    "a = float(input('Please Enter the 1st value point a: '))\n",
    "b = float(input('Please Enter the 2nd value point b: '))\n",
    "c = float(input('Please Enter the 3rd value point c: '))\n",
    "    \n",
    "Dis = (b**2) - (4*a*c)\n",
    "\n",
    "print(\"Discriminant: \", Dis)"
   ]
  }
 ],
 "metadata": {
  "kernelspec": {
   "display_name": "Python 3 (ipykernel)",
   "language": "python",
   "name": "python3"
  },
  "language_info": {
   "codemirror_mode": {
    "name": "ipython",
    "version": 3
   },
   "file_extension": ".py",
   "mimetype": "text/x-python",
   "name": "python",
   "nbconvert_exporter": "python",
   "pygments_lexer": "ipython3",
   "version": "3.9.13"
  }
 },
 "nbformat": 4,
 "nbformat_minor": 5
}
